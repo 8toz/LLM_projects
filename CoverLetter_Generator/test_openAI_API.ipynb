{
 "cells": [
  {
   "cell_type": "code",
   "execution_count": 16,
   "metadata": {},
   "outputs": [],
   "source": [
    "import os\n",
    "from openai import OpenAI\n",
    "\n",
    "client = OpenAI(\n",
    "    api_key = os.getenv(\"OPENAI_TEST_KEY\"),\n",
    "    )\n",
    "# from dotenv import load_dotenv, find_dotenv\n",
    "# _ = load_dotenv(find_dotenv())\n",
    "\n",
    "# openai.api_key  = os.getenv('OPENAI_TEST_KEY')\n",
    "\n"
   ]
  },
  {
   "cell_type": "code",
   "execution_count": 31,
   "metadata": {},
   "outputs": [],
   "source": [
    "def get_completion(prompt, client):\n",
    "    \n",
    "    completion = client.chat.completions.create(\n",
    "                    model=\"gpt-3.5-turbo-0125\",\n",
    "                    messages=[\n",
    "                        {\"role\": \"system\", \"content\": \"You are a helpful assistant.\"},\n",
    "                        {\"role\": \"user\", \"content\": prompt}\n",
    "                    ],\n",
    "                    max_tokens=500,\n",
    "                    temperature=0,\n",
    "                )\n",
    "    return completion"
   ]
  },
  {
   "cell_type": "code",
   "execution_count": 32,
   "metadata": {},
   "outputs": [],
   "source": [
    "text = f\"\"\"\n",
    "Provide the best companies to work in the Netherlands for a person /\n",
    "who studied Data Science and Biomedical Engineering.\n",
    "\"\"\"\n",
    "prompt = f\"\"\"\n",
    "Please use bullet points to show the potential companies up to 10 /\n",
    "in orden of relevancy and a brief explanation of 5 words\n",
    "```{text}```\n",
    "\"\"\"\n",
    "result = get_completion(prompt, client)\n"
   ]
  },
  {
   "cell_type": "code",
   "execution_count": 44,
   "metadata": {},
   "outputs": [
    {
     "name": "stdout",
     "output_type": "stream",
     "text": [
      "- Philips\n",
      "  - Healthcare technology leader.  \n",
      "- ASML\n",
      "  - Semiconductor equipment manufacturer.  \n",
      "- Booking.com\n",
      "  - Online travel agency company.  \n",
      "- Shell\n",
      "  - Energy and petrochemical company.  \n",
      "- ING\n",
      "  - Global banking and financial services.  \n"
     ]
    }
   ],
   "source": [
    "print(result.choices[0].message.content)"
   ]
  },
  {
   "cell_type": "code",
   "execution_count": null,
   "metadata": {},
   "outputs": [],
   "source": []
  }
 ],
 "metadata": {
  "kernelspec": {
   "display_name": "base",
   "language": "python",
   "name": "python3"
  },
  "language_info": {
   "codemirror_mode": {
    "name": "ipython",
    "version": 3
   },
   "file_extension": ".py",
   "mimetype": "text/x-python",
   "name": "python",
   "nbconvert_exporter": "python",
   "pygments_lexer": "ipython3",
   "version": "3.11.5"
  }
 },
 "nbformat": 4,
 "nbformat_minor": 2
}
